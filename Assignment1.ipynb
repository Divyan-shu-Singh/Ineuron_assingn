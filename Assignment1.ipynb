{
 "cells": [
  {
   "cell_type": "markdown",
   "metadata": {},
   "source": [
    "# Assignment1                     "
   ]
  },
  {
   "cell_type": "markdown",
   "metadata": {},
   "source": [
    "1. In the below elements which of them are values or an expression? eg:- values can be integer or string and expressions will be mathematical operators.\n",
    "\n",
    "'*'   Expression\n",
    "\n",
    "hello  Value\n",
    "\n",
    "-87.8   Value\n",
    "\n",
    "'-'   Expression\n",
    "\n",
    "/    Expression\n",
    "\n",
    "'+'    Expression\n",
    "\n",
    "6    Value\n",
    "\n"
   ]
  },
  {
   "cell_type": "markdown",
   "metadata": {},
   "source": [
    "2.  What is the difference between string and variable?\n",
    "\n",
    "Strings is a data type for a a sequence of characters (e.g. ‘’zaldnQfYJSMfwp”). In addition to letters, they can also include numbers, spaces, punctuation, and even line breaks (using ‘\\n’ for new line).\n",
    "The programmer, define a string by putting single quotes (‘ ’) or double quotes (“ “) around whatever we want to classify as a string. The string data type is primarily used for reading and writing data.\n",
    "\n",
    "Variables are references that you create to refer to other values in your program later.When writing a program, one can assign the value to a variable (e.g. my_string = “This is a really long string…”) so that it can be refered  later in a program just by typing my_string. Variables are also great for being able to refer values in that change in response to different events in the program."
   ]
  },
  {
   "cell_type": "markdown",
   "metadata": {},
   "source": [
    "3. Describe three different data types.\n",
    "\n",
    "Numeric Data type - In Python, numeric data type is used to hold numeric values.\n",
    "Integers, floating-point numbers and complex numbers fall under Python numbers category. They are defined as int, float and complex classes in Python.\n",
    "For example"
   ]
  },
  {
   "cell_type": "code",
   "execution_count": 7,
   "metadata": {},
   "outputs": [
    {
     "name": "stdout",
     "output_type": "stream",
     "text": [
      "5 is of type <class 'int'>\n"
     ]
    }
   ],
   "source": [
    "num1 = 5\n",
    "print(num1, 'is of type', type(num1))"
   ]
  },
  {
   "cell_type": "markdown",
   "metadata": {},
   "source": [
    "String Data Type- String is a sequence of characters represented by either single or double quotes. For example,"
   ]
  },
  {
   "cell_type": "code",
   "execution_count": 8,
   "metadata": {},
   "outputs": [
    {
     "name": "stdout",
     "output_type": "stream",
     "text": [
      "Python\n",
      "<class 'str'>\n"
     ]
    }
   ],
   "source": [
    "name = 'Python'\n",
    "print(name) \n",
    "print(type(name))"
   ]
  },
  {
   "cell_type": "markdown",
   "metadata": {},
   "source": [
    "Boolean Data Types- In programming often it is needed to know if an expression is True or False.\n",
    "We can evaluate any expression in Python, and get one of two answers, True or False.\n",
    "When we compare two values, the expression is evaluated and Python returns the Boolean answer.\n",
    "Example"
   ]
  },
  {
   "cell_type": "code",
   "execution_count": 9,
   "metadata": {},
   "outputs": [
    {
     "name": "stdout",
     "output_type": "stream",
     "text": [
      "b is not greater than a\n"
     ]
    }
   ],
   "source": [
    "a = 200\n",
    "b = 33\n",
    "\n",
    "if b > a:\n",
    "  print(\"b is greater than a\")\n",
    "else:\n",
    "  print(\"b is not greater than a\")"
   ]
  },
  {
   "cell_type": "markdown",
   "metadata": {},
   "source": [
    "4. What is an expression made up of? What do all expressions do?\n",
    "\n",
    "An expression is a combination of operators and operands that is interpreted to produce some other value. In any programming language, an expression is evaluated as per the precedence of its operators. So that if there is more than one operator in an expression, their precedence decides which operation will be performed first. We have many different types of expressions in Python.\n",
    "Example"
   ]
  },
  {
   "cell_type": "code",
   "execution_count": 10,
   "metadata": {},
   "outputs": [
    {
     "name": "stdout",
     "output_type": "stream",
     "text": [
      "52\n",
      "False\n"
     ]
    }
   ],
   "source": [
    "x = 40\n",
    "y = 12\n",
    "  \n",
    "add = x + y\n",
    "print(add)\n",
    "\n",
    "P = (10 == 9)\n",
    "Q = (7 > 5)\n",
    "  \n",
    "# Logical Expressions\n",
    "R = P and Q\n",
    "\n",
    "print(R)\n"
   ]
  },
  {
   "cell_type": "markdown",
   "metadata": {},
   "source": [
    "5. This assignment statements, like spam = 10. What is the difference between an\n",
    "expression and a statement?\n",
    "\n",
    "Statements represent an action or command e.g print statements, assignment statements.\n",
    "\n",
    "For example print 'hello', x = 1\n",
    "\n",
    "Expression is a combination of variables, operations and values that yields a result value.\n",
    "\n",
    "5 * 5 # yields 25\n"
   ]
  },
  {
   "cell_type": "markdown",
   "metadata": {},
   "source": [
    "6. After running the following code, what does the variable bacon contain?\n",
    "bacon = 22\n",
    "bacon + 1  Ans. 22"
   ]
  },
  {
   "cell_type": "code",
   "execution_count": 11,
   "metadata": {},
   "outputs": [
    {
     "name": "stdout",
     "output_type": "stream",
     "text": [
      "22\n"
     ]
    }
   ],
   "source": [
    "bacon = 22\n",
    "bacon + 1\n",
    "print(bacon)"
   ]
  },
  {
   "cell_type": "markdown",
   "metadata": {},
   "source": [
    "7. What should the values of the following two terms be?\n",
    "'spam'+ 'spamspam'\n",
    "'spam' * 3"
   ]
  },
  {
   "cell_type": "code",
   "execution_count": 12,
   "metadata": {},
   "outputs": [
    {
     "name": "stdout",
     "output_type": "stream",
     "text": [
      "spamspamspam\n",
      "spamspamspam\n"
     ]
    }
   ],
   "source": [
    "print('spam'+ 'spamspam')\n",
    "print('spam' * 3)\n"
   ]
  },
  {
   "cell_type": "markdown",
   "metadata": {},
   "source": [
    "8. Why is eggs a valid variable name while 100 is invalid?\n",
    "\n",
    "A variable name cannot start with a number thats why 100 is invalid and A variable name must start with a letter or the underscore character thats why eggs is a valid variable name."
   ]
  },
  {
   "cell_type": "markdown",
   "metadata": {},
   "source": [
    "9. What three functions can be used to get the integer, floating-point number, or string\n",
    "version of a value?\n",
    "\n",
    "the typecasting functions int(), float() and str() can be used to get the mentioned versions of a said value.\n",
    "Example"
   ]
  },
  {
   "cell_type": "code",
   "execution_count": 13,
   "metadata": {},
   "outputs": [
    {
     "name": "stdout",
     "output_type": "stream",
     "text": [
      "10\n",
      "10.0\n",
      "10\n"
     ]
    }
   ],
   "source": [
    "x=10\n",
    "print(int(x))\n",
    "print(float(x))\n",
    "print(str(x))"
   ]
  },
  {
   "cell_type": "markdown",
   "metadata": {},
   "source": [
    "10. Why does this expression cause an error? How can you fix it?\n",
    "'I have eaten ' + 99 +  'burritos.'\n",
    "\n",
    "The statement contatins type int and str values thats why it can't be concatenated , to handle this we can convert 99 as string - '99' and then concatenate it with the rest of the string.\n"
   ]
  },
  {
   "cell_type": "code",
   "execution_count": 14,
   "metadata": {},
   "outputs": [
    {
     "name": "stdout",
     "output_type": "stream",
     "text": [
      "I have eaten 99burritos.\n"
     ]
    }
   ],
   "source": [
    "print('I have eaten ' + '99' +  'burritos.')"
   ]
  }
 ],
 "metadata": {
  "kernelspec": {
   "display_name": "Python 3.10.5 64-bit",
   "language": "python",
   "name": "python3"
  },
  "language_info": {
   "codemirror_mode": {
    "name": "ipython",
    "version": 3
   },
   "file_extension": ".py",
   "mimetype": "text/x-python",
   "name": "python",
   "nbconvert_exporter": "python",
   "pygments_lexer": "ipython3",
   "version": "3.10.5"
  },
  "orig_nbformat": 4,
  "vscode": {
   "interpreter": {
    "hash": "c19fa61d258bb2b35aae2ada233c33e2817c1ce895aa48acba720c6bf7cbe3cb"
   }
  }
 },
 "nbformat": 4,
 "nbformat_minor": 2
}

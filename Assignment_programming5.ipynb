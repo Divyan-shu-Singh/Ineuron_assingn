{
 "cells": [
  {
   "cell_type": "markdown",
   "metadata": {},
   "source": [
    "# Assignment 5"
   ]
  },
  {
   "cell_type": "markdown",
   "metadata": {},
   "source": [
    "1. Write a Python Program to Find LCM?"
   ]
  },
  {
   "cell_type": "code",
   "execution_count": 26,
   "metadata": {},
   "outputs": [
    {
     "data": {
      "text/plain": [
       "6"
      ]
     },
     "execution_count": 26,
     "metadata": {},
     "output_type": "execute_result"
    }
   ],
   "source": [
    "# Python Program to Find LCM\n",
    "\n",
    "x=int(input())\n",
    "y=int(input())\n",
    "\n",
    "def lcm(a,b):\n",
    "    \n",
    "    if a>b:\n",
    "        greater=a\n",
    "    else:\n",
    "        greater=b\n",
    "\n",
    "    while(True):\n",
    "        if(greater%a==0 and greater%b==0):\n",
    "            lcm=greater\n",
    "            break\n",
    "        greater+=1\n",
    "\n",
    "    return lcm\n",
    "\n",
    "lcm(x,y)\n",
    "\n",
    "\n"
   ]
  },
  {
   "cell_type": "markdown",
   "metadata": {},
   "source": [
    "2. Write a Python Program to Find HCF?"
   ]
  },
  {
   "cell_type": "code",
   "execution_count": 27,
   "metadata": {},
   "outputs": [
    {
     "data": {
      "text/plain": [
       "2"
      ]
     },
     "execution_count": 27,
     "metadata": {},
     "output_type": "execute_result"
    }
   ],
   "source": [
    "#Python Program to Find HCF\n",
    "\n",
    "x=int(input())\n",
    "y=int(input())\n",
    "\n",
    "def hcf(a,b):\n",
    "    \n",
    "    if a<b:\n",
    "        small=a\n",
    "    else:\n",
    "        small=b\n",
    "\n",
    "    while(True):\n",
    "        if(a%small==0 and b%small==0):\n",
    "            hcf=small\n",
    "            break\n",
    "        small-=1\n",
    "\n",
    "    return hcf\n",
    "\n",
    "hcf(x,y)"
   ]
  },
  {
   "cell_type": "markdown",
   "metadata": {},
   "source": [
    "3. Write a Python Program to Convert Decimal to Binary, Octal and Hexadecimal?"
   ]
  },
  {
   "cell_type": "code",
   "execution_count": 28,
   "metadata": {},
   "outputs": [
    {
     "name": "stdout",
     "output_type": "stream",
     "text": [
      "110\n",
      "6\n",
      "6\n"
     ]
    }
   ],
   "source": [
    "def bin(n):\n",
    "    bin=''\n",
    "\n",
    "    while n!=0:\n",
    "        bin=str((n%2))+bin\n",
    "        n=n//2\n",
    "\n",
    "    print(int(bin))\n",
    "\n",
    "def oct(n):\n",
    "    oct=''\n",
    "\n",
    "    while n!=0:\n",
    "        oct=str((n%8))+oct\n",
    "        n=n//8\n",
    "\n",
    "    print(int(oct))\n",
    "\n",
    "def hex(n):\n",
    "    conversion_table = {0: '0', 1: '1', 2: '2', 3: '3', 4: '4',\n",
    "                    5: '5', 6: '6', 7: '7',\n",
    "                    8: '8', 9: '9', 10: 'A', 11: 'B', 12: 'C',\n",
    "                    13: 'D', 14: 'E', 15: 'F'}\n",
    "\n",
    "    hex=''\n",
    "\n",
    "    while n!=0:\n",
    "        hex=str(conversion_table[((n%16))])+hex\n",
    "        n=n//16\n",
    "\n",
    "    print(hex)\n",
    "\n",
    "\n",
    "\n",
    "\n",
    "\n",
    "num=int(input())  \n",
    "\n",
    "bin(num)\n",
    "oct(num)\n",
    "hex(num)"
   ]
  },
  {
   "cell_type": "markdown",
   "metadata": {},
   "source": [
    "4. Write a Python Program To Find ASCII value of a character?"
   ]
  },
  {
   "cell_type": "code",
   "execution_count": 29,
   "metadata": {},
   "outputs": [
    {
     "name": "stdout",
     "output_type": "stream",
     "text": [
      "The ASCII value of '#' is 35\n"
     ]
    }
   ],
   "source": [
    "# Python Program To Find ASCII value of a character\n",
    "\n",
    "c=input()\n",
    "\n",
    "print(\"The ASCII value of '\" + c + \"' is\", ord(c)) "
   ]
  },
  {
   "cell_type": "markdown",
   "metadata": {},
   "source": [
    "5. Write a Python Program to Make a Simple Calculator with 4 basic mathematical operations?"
   ]
  },
  {
   "cell_type": "code",
   "execution_count": 30,
   "metadata": {},
   "outputs": [
    {
     "name": "stdout",
     "output_type": "stream",
     "text": [
      "7\n"
     ]
    }
   ],
   "source": [
    "# Program to Make a Simple Calculator with 4 basic mathematical operations\n",
    "\n",
    "#input the operation in following manner- 'numeral'<space>'operand'<space>'numeral'\n",
    "a,b,c=input().split()\n",
    "\n",
    "if b=='+':\n",
    "    print(int(a)+int(c))\n",
    "elif b=='-':\n",
    "    print(int(a)-int(c))\n",
    "elif b=='*':\n",
    "    print(int(a)*int(c))\n",
    "else:\n",
    "    print(int(a)/int(c))\n",
    "\n"
   ]
  }
 ],
 "metadata": {
  "kernelspec": {
   "display_name": "Python 3.10.5 64-bit",
   "language": "python",
   "name": "python3"
  },
  "language_info": {
   "codemirror_mode": {
    "name": "ipython",
    "version": 3
   },
   "file_extension": ".py",
   "mimetype": "text/x-python",
   "name": "python",
   "nbconvert_exporter": "python",
   "pygments_lexer": "ipython3",
   "version": "3.10.5"
  },
  "orig_nbformat": 4,
  "vscode": {
   "interpreter": {
    "hash": "c19fa61d258bb2b35aae2ada233c33e2817c1ce895aa48acba720c6bf7cbe3cb"
   }
  }
 },
 "nbformat": 4,
 "nbformat_minor": 2
}
